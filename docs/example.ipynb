{
    "cells": [
        {
            "cell_type": "markdown",
            "metadata": {},
            "source": [
                "# Example usage\n",
                "\n",
                "In this notebook, we will demonstrate how to use the `str_split_one` function, which splits a string into a list based on a delimiter or regular expression pattern."
            ]
        },
        {
            "cell_type": "code",
            "execution_count": 2,
            "metadata": {},
            "outputs": [],
            "source": [
                "import regex\n",
                "from ia5_kli_toypython.ia5_kli_toypython import str_split_one"
            ]
        },
        {
            "cell_type": "markdown",
            "metadata": {},
            "source": [
                "### Example 1: Simple Split\n",
                "\n",
                "In the first example, we split a string `\"apple,banana,cherry\"` by the comma delimiter. The output should be a list of fruits.\n"
            ]
        },
        {
            "cell_type": "code",
            "execution_count": null,
            "metadata": {},
            "outputs": [
                {
                    "name": "stdout",
                    "output_type": "stream",
                    "text": [
                        "['apple', 'banana', 'cherry,date']\n"
                    ]
                }
            ],
            "source": [
                "# Example 1: Simple string split by a comma\n",
                "result_1 = str_split_one(\"apple,banana,cherry\", \",\")\n",
                "print(result_1)"
            ]
        },
        {
            "cell_type": "markdown",
            "metadata": {},
            "source": [
                "### Example 2: Limiting Splits\n",
                "\n",
                "In the second example, we limit the number of splits to 2. As a result, the output will have only 3 parts: two fruits and the remaining string.\n"
            ]
        },
        {
            "cell_type": "code",
            "execution_count": 4,
            "metadata": {},
            "outputs": [
                {
                    "name": "stdout",
                    "output_type": "stream",
                    "text": [
                        "['apple', 'banana', 'cherry,date']\n"
                    ]
                }
            ],
            "source": [
                "# Example 2: Limiting the number of splits\n",
                "result_2 = str_split_one(\"apple,banana,cherry,date\", \",\", n=2)\n",
                "print(result_2)"
            ]
        }
    ],
    "metadata": {
        "kernelspec": {
            "display_name": "dsci310-python-package",
            "language": "python",
            "name": "python3"
        },
        "language_info": {
            "codemirror_mode": {
                "name": "ipython",
                "version": 3
            },
            "file_extension": ".py",
            "mimetype": "text/x-python",
            "name": "python",
            "nbconvert_exporter": "python",
            "pygments_lexer": "ipython3",
            "version": "3.11.11"
        }
    },
    "nbformat": 4,
    "nbformat_minor": 4
}
