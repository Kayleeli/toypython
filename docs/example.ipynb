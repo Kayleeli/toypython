{
    "cells": [
        {
            "cell_type": "markdown",
            "metadata": {},
            "source": [
                "# Example usage\n",
                "\n",
                "In this notebook, we will demonstrate how to use the `str_split_one` function, which splits a string into a list based on a delimiter or regular expression pattern."
            ]
        },
        {
            "cell_type": "code",
            "execution_count": null,
            "metadata": {},
            "outputs": [
                {
                    "ename": "ImportError",
                    "evalue": "cannot import name 'str_split_one' from 'toypython' (C:\\Users\\ljung\\Desktop\\git\\dsci310\\toypython\\src\\toypython\\__init__.py)",
                    "output_type": "error",
                    "traceback": [
                        "\u001b[31m---------------------------------------------------------------------------\u001b[39m",
                        "\u001b[31mImportError\u001b[39m                               Traceback (most recent call last)",
                        "\u001b[36mCell\u001b[39m\u001b[36m \u001b[39m\u001b[32mIn[1]\u001b[39m\u001b[32m, line 2\u001b[39m\n\u001b[32m      1\u001b[39m \u001b[38;5;28;01mimport\u001b[39;00m\u001b[38;5;250m \u001b[39m\u001b[34;01mregex\u001b[39;00m\n\u001b[32m----> \u001b[39m\u001b[32m2\u001b[39m \u001b[38;5;28;01mfrom\u001b[39;00m\u001b[38;5;250m \u001b[39m\u001b[34;01mtoypython\u001b[39;00m\u001b[38;5;250m \u001b[39m\u001b[38;5;28;01mimport\u001b[39;00m str_split_one\n",
                        "\u001b[31mImportError\u001b[39m: cannot import name 'str_split_one' from 'toypython' (C:\\Users\\ljung\\Desktop\\git\\dsci310\\toypython\\src\\toypython\\__init__.py)"
                    ]
                }
            ],
            "source": [
                "import regex\n",
                "from toypython.toypython import str_split_one"
            ]
        },
        {
            "cell_type": "markdown",
            "metadata": {},
            "source": [
                "### Example 1: Simple Split\n",
                "\n",
                "In the first example, we split a string `\"apple,banana,cherry\"` by the comma delimiter. The output should be a list of fruits.\n"
            ]
        },
        {
            "cell_type": "code",
            "execution_count": null,
            "metadata": {},
            "outputs": [],
            "source": [
                "# Example 2: Limiting the number of splits\n",
                "result_2 = str_split_one(\"apple,banana,cherry,date\", \",\", n=2)\n",
                "print(result_2)"
            ]
        },
        {
            "cell_type": "code",
            "execution_count": null,
            "metadata": {},
            "outputs": [],
            "source": []
        }
    ],
    "metadata": {
        "kernelspec": {
            "display_name": "dsci310-python-package",
            "language": "python",
            "name": "python3"
        },
        "language_info": {
            "codemirror_mode": {
                "name": "ipython",
                "version": 3
            },
            "file_extension": ".py",
            "mimetype": "text/x-python",
            "name": "python",
            "nbconvert_exporter": "python",
            "pygments_lexer": "ipython3",
            "version": "3.11.11"
        }
    },
    "nbformat": 4,
    "nbformat_minor": 4
}
